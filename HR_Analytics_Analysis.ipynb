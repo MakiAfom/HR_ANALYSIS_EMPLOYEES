{
 "cells": [
  {
   "cell_type": "markdown",
   "id": "1d477da6",
   "metadata": {},
   "source": [
    "# HR Analytics Analysis"
   ]
  },
  {
   "cell_type": "markdown",
   "id": "56360773",
   "metadata": {},
   "source": [
    "This notebook demonstrates how to load and analyze HR Analytics data using Python."
   ]
  },
  {
   "cell_type": "code",
   "execution_count": null,
   "id": "d43496d7",
   "metadata": {},
   "outputs": [],
   "source": [
    "\n",
    "# Import necessary libraries\n",
    "import pandas as pd\n",
    "import matplotlib.pyplot as plt\n",
    "import seaborn as sns\n",
    "\n",
    "# Load the Excel file\n",
    "file_path = '/mnt/data/HR_Analytics- V5.xlsx'\n",
    "\n",
    "# Load the 'HR_Analytics.csv' sheet\n",
    "df_hr_analytics = pd.read_excel(file_path, sheet_name='HR_Analytics.csv')\n",
    "\n",
    "# Display the first few rows of the data\n",
    "df_hr_analytics.head()\n",
    "    "
   ]
  },
  {
   "cell_type": "markdown",
   "id": "3f61fd31",
   "metadata": {},
   "source": [
    "## Basic Data Exploration"
   ]
  },
  {
   "cell_type": "code",
   "execution_count": null,
   "id": "eac9b142",
   "metadata": {},
   "outputs": [],
   "source": [
    "\n",
    "# Checking the structure of the dataset\n",
    "df_hr_analytics.info()\n",
    "\n",
    "# Checking for missing values\n",
    "df_hr_analytics.isnull().sum()\n",
    "\n",
    "# Summary statistics\n",
    "df_hr_analytics.describe()\n",
    "    "
   ]
  },
  {
   "cell_type": "markdown",
   "id": "ffbb9914",
   "metadata": {},
   "source": [
    "## Data Visualization"
   ]
  },
  {
   "cell_type": "code",
   "execution_count": null,
   "id": "0afe7ca9",
   "metadata": {},
   "outputs": [],
   "source": [
    "\n",
    "# Bar plot of Attrition\n",
    "plt.figure(figsize=(8, 5))\n",
    "sns.countplot(x='Attrition', data=df_hr_analytics)\n",
    "plt.title('Employee Attrition Count')\n",
    "plt.show()\n",
    "    "
   ]
  },
  {
   "cell_type": "code",
   "execution_count": null,
   "id": "51408e25",
   "metadata": {},
   "outputs": [],
   "source": [
    "\n",
    "# Bar plot of department distribution\n",
    "plt.figure(figsize=(8, 5))\n",
    "sns.countplot(x='Department', data=df_hr_analytics)\n",
    "plt.title('Employee Distribution by Department')\n",
    "plt.show()\n",
    "    "
   ]
  },
  {
   "cell_type": "markdown",
   "id": "56594d56",
   "metadata": {},
   "source": [
    "## Custom Metric: Turnover Rate"
   ]
  },
  {
   "cell_type": "code",
   "execution_count": null,
   "id": "0dcda69a",
   "metadata": {},
   "outputs": [],
   "source": [
    "\n",
    "# Turnover rate\n",
    "turnover_rate = df_hr_analytics['Attrition'].value_counts(normalize=True)['Yes']\n",
    "print(f'Turnover Rate: {turnover_rate * 100:.2f}%')\n",
    "    "
   ]
  },
  {
   "cell_type": "markdown",
   "id": "08249ac0",
   "metadata": {},
   "source": [
    "## Export Cleaned Data for Power BI"
   ]
  },
  {
   "cell_type": "code",
   "execution_count": null,
   "id": "0e334add",
   "metadata": {},
   "outputs": [],
   "source": [
    "\n",
    "# Exporting the dataset to CSV format for Power BI\n",
    "df_hr_analytics.to_csv('cleaned_hr_analytics.csv', index=False)\n",
    "    "
   ]
  }
 ],
 "metadata": {},
 "nbformat": 4,
 "nbformat_minor": 5
}